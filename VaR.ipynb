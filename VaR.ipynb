{
 "cells": [
  {
   "attachments": {},
   "cell_type": "markdown",
   "metadata": {},
   "source": [
    "VaR definition: Value at Risk refers to the maximum possible loss of a financial asset or securities portfolio's value within a specific time period, given a certain probability level (confidence level). A 1-day 5% VaR can be understood as the probability of experiencing a loss exceeding the VaR in one day being less than or equal to 5%."
   ]
  },
  {
   "cell_type": "code",
   "execution_count": 15,
   "metadata": {},
   "outputs": [],
   "source": [
    "import pandas as pd\n",
    "import numpy as np\n",
    "import matplotlib.pyplot as plt\n",
    "import yfinance as yf\n",
    "import matplotlib.pyplot as plt"
   ]
  },
  {
   "attachments": {},
   "cell_type": "markdown",
   "metadata": {},
   "source": [
    "# Historical Method"
   ]
  },
  {
   "cell_type": "code",
   "execution_count": 10,
   "metadata": {},
   "outputs": [
    {
     "name": "stdout",
     "output_type": "stream",
     "text": [
      "[*********************100%***********************]  1 of 1 completed\n"
     ]
    },
    {
     "data": {
      "text/html": [
       "<div>\n",
       "<style scoped>\n",
       "    .dataframe tbody tr th:only-of-type {\n",
       "        vertical-align: middle;\n",
       "    }\n",
       "\n",
       "    .dataframe tbody tr th {\n",
       "        vertical-align: top;\n",
       "    }\n",
       "\n",
       "    .dataframe thead th {\n",
       "        text-align: right;\n",
       "    }\n",
       "</style>\n",
       "<table border=\"1\" class=\"dataframe\">\n",
       "  <thead>\n",
       "    <tr style=\"text-align: right;\">\n",
       "      <th></th>\n",
       "      <th>Open</th>\n",
       "      <th>High</th>\n",
       "      <th>Low</th>\n",
       "      <th>Close</th>\n",
       "      <th>Adj Close</th>\n",
       "      <th>Volume</th>\n",
       "    </tr>\n",
       "    <tr>\n",
       "      <th>Date</th>\n",
       "      <th></th>\n",
       "      <th></th>\n",
       "      <th></th>\n",
       "      <th></th>\n",
       "      <th></th>\n",
       "      <th></th>\n",
       "    </tr>\n",
       "  </thead>\n",
       "  <tbody>\n",
       "    <tr>\n",
       "      <th>2020-01-02</th>\n",
       "      <td>74.059998</td>\n",
       "      <td>75.150002</td>\n",
       "      <td>73.797501</td>\n",
       "      <td>75.087502</td>\n",
       "      <td>73.449387</td>\n",
       "      <td>135480400</td>\n",
       "    </tr>\n",
       "    <tr>\n",
       "      <th>2020-01-03</th>\n",
       "      <td>74.287498</td>\n",
       "      <td>75.144997</td>\n",
       "      <td>74.125000</td>\n",
       "      <td>74.357498</td>\n",
       "      <td>72.735321</td>\n",
       "      <td>146322800</td>\n",
       "    </tr>\n",
       "    <tr>\n",
       "      <th>2020-01-06</th>\n",
       "      <td>73.447502</td>\n",
       "      <td>74.989998</td>\n",
       "      <td>73.187500</td>\n",
       "      <td>74.949997</td>\n",
       "      <td>73.314888</td>\n",
       "      <td>118387200</td>\n",
       "    </tr>\n",
       "    <tr>\n",
       "      <th>2020-01-07</th>\n",
       "      <td>74.959999</td>\n",
       "      <td>75.224998</td>\n",
       "      <td>74.370003</td>\n",
       "      <td>74.597504</td>\n",
       "      <td>72.970085</td>\n",
       "      <td>108872000</td>\n",
       "    </tr>\n",
       "    <tr>\n",
       "      <th>2020-01-08</th>\n",
       "      <td>74.290001</td>\n",
       "      <td>76.110001</td>\n",
       "      <td>74.290001</td>\n",
       "      <td>75.797501</td>\n",
       "      <td>74.143906</td>\n",
       "      <td>132079200</td>\n",
       "    </tr>\n",
       "    <tr>\n",
       "      <th>...</th>\n",
       "      <td>...</td>\n",
       "      <td>...</td>\n",
       "      <td>...</td>\n",
       "      <td>...</td>\n",
       "      <td>...</td>\n",
       "      <td>...</td>\n",
       "    </tr>\n",
       "    <tr>\n",
       "      <th>2022-04-08</th>\n",
       "      <td>171.779999</td>\n",
       "      <td>171.779999</td>\n",
       "      <td>169.199997</td>\n",
       "      <td>170.089996</td>\n",
       "      <td>169.065857</td>\n",
       "      <td>76575500</td>\n",
       "    </tr>\n",
       "    <tr>\n",
       "      <th>2022-04-11</th>\n",
       "      <td>168.710007</td>\n",
       "      <td>169.029999</td>\n",
       "      <td>165.500000</td>\n",
       "      <td>165.750000</td>\n",
       "      <td>164.751984</td>\n",
       "      <td>72246700</td>\n",
       "    </tr>\n",
       "    <tr>\n",
       "      <th>2022-04-12</th>\n",
       "      <td>168.020004</td>\n",
       "      <td>169.869995</td>\n",
       "      <td>166.639999</td>\n",
       "      <td>167.660004</td>\n",
       "      <td>166.650482</td>\n",
       "      <td>79265200</td>\n",
       "    </tr>\n",
       "    <tr>\n",
       "      <th>2022-04-13</th>\n",
       "      <td>167.389999</td>\n",
       "      <td>171.039993</td>\n",
       "      <td>166.770004</td>\n",
       "      <td>170.399994</td>\n",
       "      <td>169.373978</td>\n",
       "      <td>70618900</td>\n",
       "    </tr>\n",
       "    <tr>\n",
       "      <th>2022-04-14</th>\n",
       "      <td>170.619995</td>\n",
       "      <td>171.270004</td>\n",
       "      <td>165.039993</td>\n",
       "      <td>165.289993</td>\n",
       "      <td>164.294739</td>\n",
       "      <td>75329400</td>\n",
       "    </tr>\n",
       "  </tbody>\n",
       "</table>\n",
       "<p>577 rows × 6 columns</p>\n",
       "</div>"
      ],
      "text/plain": [
       "                  Open        High         Low       Close   Adj Close  \\\n",
       "Date                                                                     \n",
       "2020-01-02   74.059998   75.150002   73.797501   75.087502   73.449387   \n",
       "2020-01-03   74.287498   75.144997   74.125000   74.357498   72.735321   \n",
       "2020-01-06   73.447502   74.989998   73.187500   74.949997   73.314888   \n",
       "2020-01-07   74.959999   75.224998   74.370003   74.597504   72.970085   \n",
       "2020-01-08   74.290001   76.110001   74.290001   75.797501   74.143906   \n",
       "...                ...         ...         ...         ...         ...   \n",
       "2022-04-08  171.779999  171.779999  169.199997  170.089996  169.065857   \n",
       "2022-04-11  168.710007  169.029999  165.500000  165.750000  164.751984   \n",
       "2022-04-12  168.020004  169.869995  166.639999  167.660004  166.650482   \n",
       "2022-04-13  167.389999  171.039993  166.770004  170.399994  169.373978   \n",
       "2022-04-14  170.619995  171.270004  165.039993  165.289993  164.294739   \n",
       "\n",
       "               Volume  \n",
       "Date                   \n",
       "2020-01-02  135480400  \n",
       "2020-01-03  146322800  \n",
       "2020-01-06  118387200  \n",
       "2020-01-07  108872000  \n",
       "2020-01-08  132079200  \n",
       "...               ...  \n",
       "2022-04-08   76575500  \n",
       "2022-04-11   72246700  \n",
       "2022-04-12   79265200  \n",
       "2022-04-13   70618900  \n",
       "2022-04-14   75329400  \n",
       "\n",
       "[577 rows x 6 columns]"
      ]
     },
     "execution_count": 10,
     "metadata": {},
     "output_type": "execute_result"
    }
   ],
   "source": [
    "# Define the list of stock codes to be collected\n",
    "stock_list = ['AAPL']\n",
    "\n",
    "# Set the time range\n",
    "start_date = '2020-01-01'\n",
    "end_date = '2022-04-16'\n",
    "\n",
    "# Collect stock data using the yfinance module\n",
    "data = yf.download(stock_list, start=start_date, end=end_date)\n",
    "\n",
    "# Print the collected stock data\n",
    "data"
   ]
  },
  {
   "cell_type": "code",
   "execution_count": 11,
   "metadata": {},
   "outputs": [],
   "source": [
    "data['returns'] = data['Adj Close'].pct_change()"
   ]
  },
  {
   "cell_type": "code",
   "execution_count": 22,
   "metadata": {},
   "outputs": [
    {
     "data": {
      "text/plain": [
       "(-0.06395622957651884, -0.032319448491762076)"
      ]
     },
     "execution_count": 22,
     "metadata": {},
     "output_type": "execute_result"
    }
   ],
   "source": [
    "VaR_1_historical = np.percentile(data.returns.dropna(), 1)\n",
    "VaR_5_historical = np.percentile(data.returns.dropna(), 5)\n",
    "VaR_1_historical, VaR_5_historical"
   ]
  },
  {
   "cell_type": "code",
   "execution_count": 277,
   "metadata": {},
   "outputs": [
    {
     "data": {
      "text/plain": [
       "Text(0, 0.5, 'count')"
      ]
     },
     "execution_count": 277,
     "metadata": {},
     "output_type": "execute_result"
    },
    {
     "data": {
      "image/png": "[encoded data removed]",
      "text/plain": [
       "<Figure size 1000x400 with 1 Axes>"
      ]
     },
     "metadata": {},
     "output_type": "display_data"
    }
   ],
   "source": [
    "plt.figure(figsize=(10, 4))\n",
    "data.returns.hist(bins=50, alpha=0.6, color='steelblue')\n",
    "plt.axvline(VaR_1_historical, color='y', linewidth=1, label='VaR1')\n",
    "plt.axvline(VaR_5_historical, color='r', linewidth=1, label='VaR5')\n",
    "plt.legend()\n",
    "plt.xlabel('returns')\n",
    "plt.ylabel('count')"
   ]
  },
  {
   "attachments": {},
   "cell_type": "markdown",
   "metadata": {},
   "source": [
    "# Parameter Method"
   ]
  },
  {
   "cell_type": "code",
   "execution_count": 20,
   "metadata": {},
   "outputs": [],
   "source": [
    "mean_returns = data.returns.mean()\n",
    "std = data.returns.std()\n",
    "VaR_1_param = mean_returns - 2.33*std\n",
    "VaR_5_param = mean_returns - 1.645*std"
   ]
  },
  {
   "cell_type": "code",
   "execution_count": 21,
   "metadata": {},
   "outputs": [
    {
     "data": {
      "text/plain": [
       "(-0.05212261070053119, -0.036309658624230044)"
      ]
     },
     "execution_count": 21,
     "metadata": {},
     "output_type": "execute_result"
    }
   ],
   "source": [
    "VaR_1_param, VaR_5_param"
   ]
  },
  {
   "attachments": {},
   "cell_type": "markdown",
   "metadata": {},
   "source": [
    "# Resample Method"
   ]
  },
  {
   "cell_type": "code",
   "execution_count": 25,
   "metadata": {},
   "outputs": [],
   "source": [
    "def resample_VaR(data, size):\n",
    "    sample = np.random.choice(data, size, replace=True)\n",
    "    VaR_1_resample = np.percentile(sample, 1)\n",
    "    VaR_5_resample = np.percentile(sample, 5)\n",
    "    return VaR_1_resample, VaR_5_resample"
   ]
  },
  {
   "cell_type": "code",
   "execution_count": 27,
   "metadata": {},
   "outputs": [
    {
     "data": {
      "text/plain": [
       "(-0.047660319916341044, -0.03247033537568431)"
      ]
     },
     "execution_count": 27,
     "metadata": {},
     "output_type": "execute_result"
    }
   ],
   "source": [
    "data_pool = data.returns.dropna()\n",
    "resample_VaR(data_pool, 300)"
   ]
  },
  {
   "cell_type": "code",
   "execution_count": 29,
   "metadata": {},
   "outputs": [
    {
     "data": {
      "text/plain": [
       "VaR_1   -0.060783\n",
       "VaR_5   -0.031953\n",
       "dtype: float64"
      ]
     },
     "execution_count": 29,
     "metadata": {},
     "output_type": "execute_result"
    }
   ],
   "source": [
    "samples = [resample_VaR(data_pool, 300) for i in range(100)]\n",
    "df = pd.DataFrame(samples, columns=['VaR_1', 'VaR_5'])\n",
    "df.mean()"
   ]
  },
  {
   "attachments": {},
   "cell_type": "markdown",
   "metadata": {},
   "source": [
    "# Monte Carlo\n",
    "\n",
    "Monte Carlo simulation principle: Assuming that stock price fluctuations follow the geometric Brownian motion, \n",
    "\n",
    "S_t = S_(t-1) + S_(t-1)(μdt + σε√dt)\n",
    "\n",
    ", where S_t is today's stock price, S_(t-1) is the stock price of the previous day, μ is the average daily return of the stock, ε is a random term following the standard normal distribution, and dt is the simulation time interval. For example, if you simulate the stock price once a day, dt = 1; if you simulate it twice a day, dt = 0.5; if you simulate it once every ten days, dt = 10. Using yesterday's stock data as the initial data and the historical data's daily average return and volatility in the formula, you can simulate the stock price after one day 100 times, obtaining 100 return data points. Then, calculate the 95% and 99% percentiles of these 100 return rates to obtain the 95% and 99% VaR."
   ]
  },
  {
   "cell_type": "code",
   "execution_count": 235,
   "metadata": {},
   "outputs": [],
   "source": [
    "def calculate_var(start_price, prices, alpha):\n",
    "    \"\"\"\n",
    "    prices: NumPy array, including the simulated stock price path\n",
    "    alpha: float, confidence level\n",
    "\n",
    "    Return a float, representing the VaR at the given confidence level.\n",
    "    \"\"\"\n",
    "    # calc returns\n",
    "    returns = prices / start_price - 1\n",
    "\n",
    "    # calc VaR\n",
    "    var = np.percentile(returns, 100 - alpha)\n",
    "\n",
    "    return var"
   ]
  },
  {
   "cell_type": "code",
   "execution_count": 236,
   "metadata": {},
   "outputs": [],
   "source": [
    "def geometric_brownian_motion(S, mu, sigma, dt, T, limit=0.1):\n",
    "    \"\"\"\n",
    "    Generate a stock price path using geometric Brownian motion\n",
    "\n",
    "    S: float, initial stock price\n",
    "    mu: float, average return rate\n",
    "    sigma: float, volatility\n",
    "    dt: float, time interval\n",
    "    T: int, total number of simulation time steps\n",
    "\n",
    "    Returns a NumPy array representing the simulated stock price path\n",
    "    \"\"\"\n",
    "    # Calculate the total number of simulation steps\n",
    "    N = int(T / dt)\n",
    "\n",
    "    # Create a NumPy array of shape (N+1,) for storing the simulated stock price path\n",
    "    prices = np.zeros(N+1)\n",
    "\n",
    "    # Assign the initial price to the first price of the simulation\n",
    "    prices[0] = S\n",
    "\n",
    "    # Generate random terms following the standard normal distribution\n",
    "    epsilon = np.random.randn(N)\n",
    "\n",
    "    # Generate the stock price path\n",
    "    for i in range(1, N+1):\n",
    "        drift = mu * dt\n",
    "        diffusion = sigma * epsilon[i-1] * np.sqrt(dt)\n",
    "        prices[i] = prices[i-1] + prices[i-1] * (drift + diffusion)\n",
    "\n",
    "        # price limitation\n",
    "        max_price = prices[i-1] * (1 + limit)\n",
    "        min_price = prices[i-1] * (1 - limit)\n",
    "        prices[i] = max(prices[i], min_price)\n",
    "        prices[i] = min(prices[i], max_price)\n",
    "\n",
    "    return prices"
   ]
  },
  {
   "cell_type": "code",
   "execution_count": 237,
   "metadata": {},
   "outputs": [],
   "source": [
    "def monte_carlo_simulation(S, mu, sigma, dt, T, n_simulations=1000):\n",
    "    \"\"\"\n",
    "    Generate multiple stock price paths using Monte Carlo simulation and calculate VaR.\n",
    "\n",
    "    S: float, initial stock price\n",
    "    mu: float, average rate of return\n",
    "    sigma: float, volatility\n",
    "    dt: float, time interval\n",
    "    T: int, total number of time steps to simulate\n",
    "    limit: float, limit of upper and lower price fluctuations, default to 10%\n",
    "    alpha: float, confidence level, default to 95%\n",
    "    n_simulations: int, number of stock price paths to simulate, default to 1000\n",
    "\n",
    "    Return a float, representing the VaR at the given confidence level.\n",
    "    \"\"\"\n",
    "    # Generate n_simulations stock price paths.\n",
    "    simulations = []\n",
    "    for i in range(n_simulations):\n",
    "        prices = geometric_brownian_motion(S, mu, sigma, dt, T, limit=0.1)\n",
    "        simulations.append(prices)\n",
    "\n",
    "    # Calculate the ending price of each stock price path.\n",
    "    final_prices = np.array([s[-1] for s in simulations])\n",
    "\n",
    "    # calculate VaR\n",
    "    var = calculate_var(S, final_prices, alpha=95)\n",
    "\n",
    "    return var"
   ]
  },
  {
   "cell_type": "code",
   "execution_count": 269,
   "metadata": {},
   "outputs": [],
   "source": [
    "S = data['Adj Close'].iloc[-1]\n",
    "mu = data.returns.mean()\n",
    "sigma = data.returns.std()"
   ]
  },
  {
   "cell_type": "code",
   "execution_count": 276,
   "metadata": {},
   "outputs": [
    {
     "data": {
      "text/plain": [
       "-0.18965045918967122"
      ]
     },
     "execution_count": 276,
     "metadata": {},
     "output_type": "execute_result"
    }
   ],
   "source": [
    "monte_carlo_simulation(S=S, mu=mu, sigma=sigma, dt=1, T=60, n_simulations=10000)"
   ]
  },
  {
   "cell_type": "code",
   "execution_count": null,
   "metadata": {},
   "outputs": [],
   "source": []
  }
 ],
 "metadata": {
  "kernelspec": {
   "display_name": "invest",
   "language": "python",
   "name": "python3"
  },
  "language_info": {
   "codemirror_mode": {
    "name": "ipython",
    "version": 3
   },
   "file_extension": ".py",
   "mimetype": "text/x-python",
   "name": "python",
   "nbconvert_exporter": "python",
   "pygments_lexer": "ipython3",
   "version": "3.8.16"
  },
  "orig_nbformat": 4,
  "vscode": {
   "interpreter": {
    "hash": "15e0a8b9a0d8e97002bcf609a0db4542b6bd8441c155f47db9c5114f9e2f7992"
   }
  }
 },
 "nbformat": 4,
 "nbformat_minor": 2
}
